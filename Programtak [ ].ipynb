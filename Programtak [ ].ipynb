{
  "nbformat": 4,
  "nbformat_minor": 0,
  "metadata": {
    "colab": {
      "provenance": [],
      "authorship_tag": "ABX9TyOzv1c6q4RWnfJy+qYWR4hg",
      "include_colab_link": true
    },
    "kernelspec": {
      "name": "python3",
      "display_name": "Python 3"
    },
    "language_info": {
      "name": "python"
    }
  },
  "cells": [
    {
      "cell_type": "markdown",
      "metadata": {
        "id": "view-in-github",
        "colab_type": "text"
      },
      "source": [
        "<a href=\"https://colab.research.google.com/github/quinkly-rea-again/programtak/blob/main/Programtak%200.0.7.ipynb\" target=\"_parent\"><img src=\"https://colab.research.google.com/assets/colab-badge.svg\" alt=\"Open In Colab\"/></a>"
      ]
    },
    {
      "cell_type": "code",
      "execution_count": null,
      "metadata": {
        "id": "7LWBOz7_4oEj"
      },
      "outputs": [],
      "source": [
        "import matplotlib.pyplot as plt\n",
        "\n",
        "def makeprinting(message):\n",
        "  if message == \"       \":\n",
        "    print(\"Hello, world!\")\n",
        "  elif message.startswith(\"shape\"):\n",
        "    shape = message.split(\"shape\")[1].strip()\n",
        "    if shape == \"circle\":\n",
        "      # Add logic for drawing a circle here\n",
        "      print(\"Drawing a circle\")\n",
        "    else:\n",
        "      raise ValueError(\"Invalid shape\")\n",
        "  else:\n",
        "    raise ValueError(\"Invalid message for makeprinting.\")\n",
        "\n",
        "def y(value):\n",
        "  if not isinstance(value, (int, float)):\n",
        "    raise ValueError(\"Invalid value for y.\")\n",
        "  # Add logic for handling y-axis values\n",
        "  print(f\"y value set to: {value}\")\n",
        "\n",
        "def x(value):\n",
        "  if not isinstance(value, (int, float)):\n",
        "    raise ValueError(\"Invalid value for x.\")\n",
        "  # Add logic for handling x-axis values\n",
        "  print(f\"x value set to: {value}\")\n",
        "\n",
        "def execute_code(code):\n",
        "  try:\n",
        "    exec(code)\n",
        "  except Exception as e:\n",
        "    print(f\"Error: {e}\")\n",
        "\n",
        "# Simple text-based shell\n",
        "while True:\n",
        "  code = input(\"Programtak: \")\n",
        "  if code.lower() == \"exit\":\n",
        "    break\n",
        "  execute_code(code)\n"
      ]
    },
    {
      "cell_type": "markdown",
      "source": [
        "# What is Programtak?\n",
        "\n",
        "it is a spare programming language, inspired by Python. to print a message use the code:\n",
        "\n",
        "\n",
        "```\n",
        "makeprinting(\" \")\n",
        "```\n",
        "\n",
        "\n",
        "\n",
        "to make a graph use the codes:\n",
        "\n",
        "\n",
        "```\n",
        "y(4 - 8) x(4 - 8)\n",
        "```\n",
        "\n",
        "\n",
        "\n",
        "to make a shape use the code:\n",
        "\n",
        "\n",
        "```\n",
        "makeprinting (shape)\n",
        "```\n",
        "\n",
        "the only variables are x, y, z, number picker, f, and function().\n",
        "when putting an invalid one, there will be an error."
      ],
      "metadata": {
        "id": "b_3c0dWU_TKQ"
      }
    }
  ]
}
